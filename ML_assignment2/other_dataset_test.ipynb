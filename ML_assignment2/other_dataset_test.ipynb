{
 "cells": [
  {
   "cell_type": "code",
   "execution_count": 50,
   "metadata": {},
   "outputs": [],
   "source": [
    "with open(\"iris.data\") as dataset_file:\n",
    "    dataset = dataset_file.read()\n",
    "# print(dataset)\n",
    "import pandas as pd\n",
    "from csv import reader\n",
    "from io import StringIO\n",
    "from sklearn.preprocessing import LabelEncoder\n",
    "label_encoder = LabelEncoder()\n",
    "StringData = StringIO(dataset)\n",
    "properties = [\"sepal_length\",\"sepal_width\",\"petal_length\",\"petal_width\",\"class\"]\n",
    "dataset = pd.read_csv(StringData,sep=\",\",header=None,names=properties)\n",
    "dataset = pd.DataFrame(dataset)\n",
    "dataset.iloc[:,-1] = label_encoder.fit_transform(dataset.iloc[:,-1])\n",
    "# print(dataset)\n",
    "X = dataset.iloc[:,:-1]\n",
    "y = dataset.iloc[:,-1]\n",
    "X = X.values\n",
    "y = y.values\n",
    "# print(X)\n",
    "# print(y)\n",
    "\n",
    "with open(\"iris.names\") as data_info_file:\n",
    "    data_info = data_info_file.read()\n",
    "# print(data_info)"
   ]
  },
  {
   "cell_type": "code",
   "execution_count": 51,
   "metadata": {},
   "outputs": [],
   "source": [
    "# with open(\"house-votes-84.data\") as dataset_file:\n",
    "#     dataset = dataset_file.read()\n",
    "# # print(dataset)\n",
    "# from csv import reader\n",
    "# from io import StringIO\n",
    "# from sklearn.preprocessing import LabelEncoder\n",
    "# label_encoder = LabelEncoder()\n",
    "# StringData = StringIO(dataset)\n",
    "# dataset = pd.read_csv(StringData,sep=\",\",header=None)\n",
    "# dataset = pd.DataFrame(dataset)\n",
    "# # print(dataset)\n",
    "\n",
    "# from sklearn.impute import SimpleImputer\n",
    "# imp = SimpleImputer(missing_values='?', strategy=\"most_frequent\")\n",
    "# dataset = imp.fit_transform(dataset) \n",
    "# dataset = pd.DataFrame(dataset)\n",
    "# for i in range(17):\n",
    "#     dataset.iloc[:,i] = label_encoder.fit_transform(dataset.iloc[:,i])\n",
    "# # print(dataset)\n",
    "# X = dataset.iloc[:,1:]\n",
    "# y = dataset.iloc[:,0]\n",
    "# X = X.values\n",
    "# y = y.values\n",
    "# # print(X.shape)\n",
    "# # print(y)\n",
    "\n",
    "# with open(\"house-votes-84.names\") as data_info_file:\n",
    "#     data_info = data_info_file.read()\n",
    "# # print(data_info)"
   ]
  },
  {
   "cell_type": "code",
   "execution_count": 52,
   "metadata": {},
   "outputs": [],
   "source": [
    "# with open(\"labor-neg.data\") as dataset_file:\n",
    "#     dataset_1 = dataset_file.read()\n",
    "\n",
    "# with open(\"labor-neg.test\") as dataset_file:\n",
    "#     dataset_2 = dataset_file.read()\n",
    "# from sklearn.preprocessing import LabelEncoder\n",
    "# label_encoder = LabelEncoder()\n",
    "# dataset = dataset_1+dataset_2\n",
    "# StringData = StringIO(dataset)\n",
    "# dataset = pd.read_csv(StringData,sep=\",\",header=None)\n",
    "# dataset = pd.DataFrame(dataset)\n",
    "# imp = SimpleImputer(missing_values='?', strategy=\"most_frequent\")\n",
    "# dataset = imp.fit_transform(dataset) \n",
    "# dataset = pd.DataFrame(dataset)\n",
    "# dataset.iloc[:,4] = label_encoder.fit_transform(dataset.iloc[:,4])\n",
    "# dataset.iloc[:,6] = label_encoder.fit_transform(dataset.iloc[:,6])\n",
    "# dataset.iloc[:,9] = label_encoder.fit_transform(dataset.iloc[:,9])\n",
    "# dataset.iloc[:,11] = label_encoder.fit_transform(dataset.iloc[:,11])\n",
    "# dataset.iloc[:,12] = label_encoder.fit_transform(dataset.iloc[:,12])\n",
    "# dataset.iloc[:,13] = label_encoder.fit_transform(dataset.iloc[:,13])\n",
    "# dataset.iloc[:,14] = label_encoder.fit_transform(dataset.iloc[:,14])\n",
    "# dataset.iloc[:,15] = label_encoder.fit_transform(dataset.iloc[:,15])\n",
    "# dataset.iloc[:,16] = label_encoder.fit_transform(dataset.iloc[:,16])\n",
    "# # print(dataset)\n",
    "# X = dataset.iloc[:,:-1]\n",
    "# y = dataset.iloc[:,-1]\n",
    "# X = X.values\n",
    "# y = y.values\n",
    "\n",
    "# with open(\"labor-neg.names\") as data_info_file:\n",
    "#     data_info = data_info_file.read()\n",
    "# # print(data_info)\n"
   ]
  },
  {
   "cell_type": "code",
   "execution_count": 53,
   "metadata": {},
   "outputs": [
    {
     "name": "stdout",
     "output_type": "stream",
     "text": [
      "[0.33333333 0.26666667 0.46666667 0.4        0.2        0.26666667\n",
      " 0.33333333 0.4        0.33333333 0.4       ]\n",
      "Accuracy: 0.34 (+/- 0.15)\n"
     ]
    }
   ],
   "source": [
    "# from sklearn.naive_bayes import GaussianNB\n",
    "# clf = GaussianNB()\n",
    "\n",
    "# from sklearn.neighbors import KNeighborsClassifier\n",
    "# clf = KNeighborsClassifier(n_neighbors=3)\n",
    "from sklearn.dummy import DummyClassifier\n",
    "clf = DummyClassifier(strategy='stratified',random_state=None,constant=None)\n",
    "\n",
    "# from sklearn import tree\n",
    "# clf = tree.DecisionTreeClassifier()\n",
    "\n",
    "from sklearn.model_selection import cross_val_score\n",
    "\n",
    "scores = cross_val_score(clf, X, y, cv=10)\n",
    "\n",
    "print(scores)\n",
    "print(\"Accuracy: %0.2f (+/- %0.2f)\" % (scores.mean(), scores.std() * 2))"
   ]
  },
  {
   "cell_type": "code",
   "execution_count": null,
   "metadata": {},
   "outputs": [],
   "source": []
  }
 ],
 "metadata": {
  "kernelspec": {
   "display_name": "Python 3",
   "language": "python",
   "name": "python3"
  },
  "language_info": {
   "codemirror_mode": {
    "name": "ipython",
    "version": 3
   },
   "file_extension": ".py",
   "mimetype": "text/x-python",
   "name": "python",
   "nbconvert_exporter": "python",
   "pygments_lexer": "ipython3",
   "version": "3.7.3"
  }
 },
 "nbformat": 4,
 "nbformat_minor": 2
}

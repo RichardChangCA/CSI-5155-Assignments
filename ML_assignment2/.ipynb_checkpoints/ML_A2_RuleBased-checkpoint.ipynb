{
 "cells": [
  {
   "cell_type": "code",
   "execution_count": 3,
   "metadata": {},
   "outputs": [],
   "source": [
    "from scipy.io import arff\n",
    "import pandas as pd\n",
    "data = arff.loadarff('seismic-bumps.arff')\n",
    "dataset = pd.DataFrame(data[0])\n",
    "datainfo = pd.DataFrame(data[1])\n",
    "# print(dataset)\n",
    "# print(datainfo)\n"
   ]
  },
  {
   "cell_type": "code",
   "execution_count": 4,
   "metadata": {},
   "outputs": [
    {
     "name": "stdout",
     "output_type": "stream",
     "text": [
      "dataset_size:  2584\n"
     ]
    }
   ],
   "source": [
    "from numpy import array\n",
    "from numpy import argmax\n",
    "from sklearn.preprocessing import LabelEncoder\n",
    "from sklearn.preprocessing import OneHotEncoder\n",
    "from sklearn.compose import ColumnTransformer\n",
    "import numpy\n",
    "# from sklearn.model_selection import train_test_split\n",
    "# integer encode\n",
    "label_encoder = LabelEncoder()\n",
    "dataset.iloc[:,0] = label_encoder.fit_transform(dataset.iloc[:,0])\n",
    "dataset.iloc[:,1] = label_encoder.fit_transform(dataset.iloc[:,1])\n",
    "dataset.iloc[:,2] = label_encoder.fit_transform(dataset.iloc[:,2])\n",
    "dataset.iloc[:,7] = label_encoder.fit_transform(dataset.iloc[:,7])\n",
    "dataset.iloc[:,-1] = label_encoder.fit_transform(dataset.iloc[:,-1])\n",
    "\n",
    "X = dataset.iloc[:,:-1]\n",
    "\n",
    "y = dataset.iloc[:,-1]\n",
    "\n",
    "X = X.values\n",
    "y = y.values\n",
    "\n",
    "# print(y)\n",
    "print(\"dataset_size: \", y.size)\n",
    "# X_train, X_test, y_train,y_test = train_test_split(X,y,test_size=0.2)"
   ]
  },
  {
   "cell_type": "code",
   "execution_count": 12,
   "metadata": {},
   "outputs": [
    {
     "name": "stdout",
     "output_type": "stream",
     "text": [
      "<class 'numpy.ndarray'>\n",
      "<class 'numpy.ndarray'>\n",
      "(2584, 18)\n",
      "(2584,)\n",
      "<class 'numpy.ndarray'>\n",
      "<class 'numpy.int64'>\n"
     ]
    }
   ],
   "source": [
    "print(type(X))\n",
    "print(type(y))\n",
    "print(X.shape)\n",
    "print(y.shape)\n",
    "print(type(X[0]))\n",
    "print(type(y[0]))\n",
    "print(X[0])\n",
    "print(y[0])"
   ]
  },
  {
   "cell_type": "code",
   "execution_count": 10,
   "metadata": {},
   "outputs": [
    {
     "name": "stdout",
     "output_type": "stream",
     "text": [
      "3.23.1\n"
     ]
    },
    {
     "name": "stderr",
     "output_type": "stream",
     "text": [
      "//anaconda3/lib/python3.7/site-packages/ipykernel_launcher.py:10: DeprecationWarning: calling Validation's constructor with data and learners is deprecated;\n",
      "construct an instance and call it\n",
      "  # Remove the CWD from sys.path while we load stuff.\n"
     ]
    },
    {
     "name": "stdout",
     "output_type": "stream",
     "text": [
      "accuracy [0.91099071]\n",
      "precision [0.10526316]\n",
      "recall [0.04705882]\n"
     ]
    }
   ],
   "source": [
    "import Orange\n",
    "print(Orange.version.version)\n",
    "\n",
    "cn2_learner = Orange.classification.rules.CN2Learner()\n",
    "domain = Orange.data.Domain.from_numpy(X, y)\n",
    "# print(\"domain\",domain)\n",
    "data = Orange.data.Table.from_numpy(domain=domain,X=X,Y=y)\n",
    "# print(\"data\",data)\n",
    "\n",
    "scores = Orange.evaluation.CrossValidation(data, [cn2_learner], k=10)\n",
    "\n",
    "accuracy = Orange.evaluation.scoring.CA(scores)\n",
    "\n",
    "precision = Orange.evaluation.scoring.Precision(scores)\n",
    "\n",
    "recall = Orange.evaluation.scoring.Recall(scores)\n",
    "\n",
    "\n",
    "print(\"accuracy\",accuracy)\n",
    "print(\"precision\",precision)\n",
    "print(\"recall\",recall)"
   ]
  },
  {
   "cell_type": "code",
   "execution_count": 11,
   "metadata": {},
   "outputs": [
    {
     "name": "stderr",
     "output_type": "stream",
     "text": [
      "Using TensorFlow backend.\n",
      "//anaconda3/lib/python3.7/site-packages/ipykernel_launcher.py:10: DeprecationWarning: calling Validation's constructor with data and learners is deprecated;\n",
      "construct an instance and call it\n",
      "  # Remove the CWD from sys.path while we load stuff.\n"
     ]
    },
    {
     "name": "stdout",
     "output_type": "stream",
     "text": [
      "accuracy [0.76905551]\n",
      "precision [0.87263339]\n",
      "recall [0.04705882]\n"
     ]
    }
   ],
   "source": [
    "#oversampling\n",
    "\n",
    "from imblearn.over_sampling import SMOTE\n",
    "ros = SMOTE()\n",
    "X_over, y_over = ros.fit_resample(X, y)\n",
    "\n",
    "data_over = Orange.data.Table.from_numpy(domain=domain,X=X_over,Y=y_over)\n",
    "# print(\"data\",data)\n",
    "\n",
    "scores = Orange.evaluation.CrossValidation(data_over, [cn2_learner], k=10)\n",
    "\n",
    "accuracy = Orange.evaluation.scoring.CA(scores)\n",
    "\n",
    "precision = Orange.evaluation.scoring.Precision(scores)\n",
    "\n",
    "Recall = Orange.evaluation.scoring.Recall(scores)\n",
    "\n",
    "\n",
    "print(\"accuracy\",accuracy)\n",
    "print(\"precision\",precision)\n",
    "print(\"recall\",recall)"
   ]
  },
  {
   "cell_type": "code",
   "execution_count": null,
   "metadata": {},
   "outputs": [],
   "source": [
    "#undersampling\n",
    "from imblearn.under_sampling import ClusterCentroids\n",
    "cc = ClusterCentroids()\n",
    "X_under, y_under = cc.fit_resample(X, y)\n",
    "\n",
    "data_under = Orange.data.Table.from_numpy(domain=domain,X=X_under,Y=y_under)\n",
    "# print(\"data\",data)\n",
    "\n",
    "scores = Orange.evaluation.CrossValidation(data_under, [cn2_learner], k=10)\n",
    "\n",
    "accuracy = Orange.evaluation.scoring.CA(scores)\n",
    "\n",
    "precision = Orange.evaluation.scoring.Precision(scores)\n",
    "\n",
    "Recall = Orange.evaluation.scoring.Recall(scores)"
   ]
  },
  {
   "cell_type": "code",
   "execution_count": null,
   "metadata": {},
   "outputs": [],
   "source": [
    "#combine oversampling and undersampling\n",
    "from imblearn.combine import SMOTEENN\n",
    "smote_enn = SMOTEENN()\n",
    "X_combine, y_combine = smote_enn.fit_resample(X, y)\n",
    "\n",
    "data_combine = Orange.data.Table.from_numpy(domain=domain,X=X_combine,Y=y_combine)\n",
    "# print(\"data\",data)\n",
    "\n",
    "scores = Orange.evaluation.CrossValidation(data_combine, [cn2_learner], k=10)\n",
    "\n",
    "accuracy = Orange.evaluation.scoring.CA(scores)\n",
    "\n",
    "precision = Orange.evaluation.scoring.Precision(scores)\n",
    "\n",
    "Recall = Orange.evaluation.scoring.Recall(scores)"
   ]
  },
  {
   "cell_type": "code",
   "execution_count": null,
   "metadata": {},
   "outputs": [],
   "source": [
    "from sklearn.ensemble import ExtraTreesClassifier\n",
    "from sklearn.feature_selection import SelectFromModel\n",
    "\n",
    "clf_fs = ExtraTreesClassifier(n_estimators=50)\n",
    "clf_fs = clf_fs.fit(X_combine, y_combine)\n",
    "model_fs = SelectFromModel(clf_fs, prefit=True)\n",
    "X_fs = model_fs.transform(X_combine)\n",
    "print(\"feature dimension:\", X_fs.shape[1])             \n",
    "\n",
    "y_fs = y_combine\n",
    "\n",
    "data_fs = Orange.data.Table.from_numpy(domain=domain,X=X_fs,Y=y_fs)\n",
    "# print(\"data\",data)\n",
    "\n",
    "scores = Orange.evaluation.CrossValidation(data_fs, [cn2_learner], k=10)\n",
    "\n",
    "accuracy = Orange.evaluation.scoring.CA(scores)\n",
    "\n",
    "precision = Orange.evaluation.scoring.Precision(scores)\n",
    "\n",
    "Recall = Orange.evaluation.scoring.Recall(scores)"
   ]
  },
  {
   "cell_type": "code",
   "execution_count": null,
   "metadata": {},
   "outputs": [],
   "source": [
    "from sklearn.svm import LinearSVC\n",
    "\n",
    "lsvc = LinearSVC(C=0.5, penalty=\"l1\", dual=False).fit(X_combine, y_combine)\n",
    "model_fs_2 = SelectFromModel(lsvc, prefit=True)\n",
    "X_fs_2 = model_fs_2.transform(X_combine)\n",
    "print(\"feature dimension:\", X_fs_2.shape[1])\n",
    "y_fs_2 = y_combine\n",
    "\n",
    "data_fs_2 = Orange.data.Table.from_numpy(domain=domain,X=X_fs_2,Y=y_fs_2)\n",
    "# print(\"data\",data)\n",
    "\n",
    "scores = Orange.evaluation.CrossValidation(data_fs_2, [cn2_learner], k=10)\n",
    "\n",
    "accuracy = Orange.evaluation.scoring.CA(scores)\n",
    "\n",
    "precision = Orange.evaluation.scoring.Precision(scores)\n",
    "\n",
    "Recall = Orange.evaluation.scoring.Recall(scores)"
   ]
  },
  {
   "cell_type": "code",
   "execution_count": null,
   "metadata": {},
   "outputs": [],
   "source": []
  }
 ],
 "metadata": {
  "kernelspec": {
   "display_name": "Python 3",
   "language": "python",
   "name": "python3"
  },
  "language_info": {
   "codemirror_mode": {
    "name": "ipython",
    "version": 3
   },
   "file_extension": ".py",
   "mimetype": "text/x-python",
   "name": "python",
   "nbconvert_exporter": "python",
   "pygments_lexer": "ipython3",
   "version": "3.7.3"
  }
 },
 "nbformat": 4,
 "nbformat_minor": 2
}

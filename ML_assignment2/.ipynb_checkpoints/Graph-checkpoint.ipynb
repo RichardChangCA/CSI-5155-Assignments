{
 "cells": [
  {
   "cell_type": "code",
   "execution_count": 10,
   "metadata": {},
   "outputs": [
    {
     "data": {
      "image/png": "[encoded data removed]",
      "text/plain": [
       "<Figure size 360x129.6 with 1 Axes>"
      ]
     },
     "metadata": {
      "needs_background": "light"
     },
     "output_type": "display_data"
    }
   ],
   "source": [
    "# import matplotlib.pyplot as plt\n",
    "\n",
    "# # input data\n",
    "# cd = 1.2\n",
    "# c = 2.5\n",
    "# ccf = 2.75\n",
    "# cmcf = 2.25\n",
    "# cm = 1.5\n",
    "\n",
    "\n",
    "# cd = 1.2\n",
    "# decision_tree = 2.5\n",
    "# Rule_based = 2.75\n",
    "# Naive_Bayes = 2.25\n",
    "# KNN = 1.5\n",
    "\n",
    "# limits=(4,1)\n",
    "\n",
    "# fig, ax = plt.subplots(figsize=(5,1.8))\n",
    "# plt.subplots_adjust(left=0.2, right=0.8)\n",
    "\n",
    "# # set up plot\n",
    "# ax.set_xlim(limits)\n",
    "# ax.set_ylim(0,1)\n",
    "# ax.spines['top'].set_position(('axes', 0.6))\n",
    "# #ax.xaxis.tick_top()\n",
    "# ax.xaxis.set_ticks_position('top')\n",
    "# ax.yaxis.set_visible(False)\n",
    "# for pos in [\"bottom\", \"left\", \"right\"]:\n",
    "#     ax.spines[pos].set_visible(False)\n",
    "\n",
    "# # CD bar\n",
    "# ax.plot([limits[0],limits[0]-cd], [.9,.9], color=\"k\")\n",
    "# ax.plot([limits[0],limits[0]], [.9-0.03,.9+0.03], color=\"k\")\n",
    "# ax.plot([limits[0]-cd,limits[0]-cd], [.9-0.03,.9+0.03], color=\"k\") \n",
    "# ax.text(limits[0]-cd/2., 0.92, \"CD\", ha=\"center\", va=\"bottom\") \n",
    "\n",
    "# # annotations\n",
    "# bbox_props = dict(boxstyle=\"square,pad=0.3\", fc=\"w\", ec=\"k\", lw=0.72)\n",
    "# arrowprops=dict(arrowstyle=\"-\",connectionstyle=\"angle,angleA=0,angleB=90\")\n",
    "# kw = dict(xycoords='data',textcoords=\"axes fraction\",\n",
    "#           arrowprops=arrowprops, bbox=bbox_props, va=\"center\")\n",
    "# ax.annotate(\"Decision_Tree\", xy=(c, 0.6), xytext=(0,0.25),ha=\"right\",  **kw)\n",
    "# ax.annotate(\"Rule_based\", xy=(ccf, 0.6), xytext=(0,0),ha=\"right\",  **kw)\n",
    "# ax.annotate(\"Naive_Bayes\", xy=(cmcf, 0.6), xytext=(1.,0.25),ha=\"left\",  **kw)\n",
    "# ax.annotate(\"KNN\", xy=(cm, 0.6), xytext=(1.,0),ha=\"left\",  **kw)\n",
    "\n",
    "# #bars\n",
    "# ax.plot([ccf,cm],[0.55,0.55], color=\"k\", lw=3)\n",
    "# # ax.plot([ccf,cmcf],[0.48,0.48], color=\"k\", lw=3)\n",
    "\n",
    "# plt.show()"
   ]
  },
  {
   "cell_type": "code",
   "execution_count": 10,
   "metadata": {},
   "outputs": [
    {
     "data": {
      "image/png": "[encoded data removed]",
      "text/plain": [
       "<Figure size 432x111.6 with 1 Axes>"
      ]
     },
     "metadata": {},
     "output_type": "display_data"
    }
   ],
   "source": [
    "import Orange\n",
    "import matplotlib.pyplot as plt\n",
    "names = [\"decision_tree\", \"Rule_based\", \"Naive_Bayes\", \"KNN\" ]\n",
    "avranks =  [2.5, 2.75, 2.25, 1.5]\n",
    "cd = Orange.evaluation.compute_CD(avranks, 4) #tested on 4 datasets\n",
    "Orange.evaluation.graph_ranks(avranks, names, cd=cd, width=6, textspace=1.5)\n",
    "plt.show()\n",
    "\n",
    "# decision_tree = 2.5\n",
    "# Rule_based = 2.75\n",
    "# Naive_Bayes = 2.25\n",
    "# KNN = 1.5\n"
   ]
  },
  {
   "cell_type": "code",
   "execution_count": null,
   "metadata": {},
   "outputs": [],
   "source": []
  },
  {
   "cell_type": "code",
   "execution_count": null,
   "metadata": {},
   "outputs": [],
   "source": []
  }
 ],
 "metadata": {
  "kernelspec": {
   "display_name": "Python 3",
   "language": "python",
   "name": "python3"
  },
  "language_info": {
   "codemirror_mode": {
    "name": "ipython",
    "version": 3
   },
   "file_extension": ".py",
   "mimetype": "text/x-python",
   "name": "python",
   "nbconvert_exporter": "python",
   "pygments_lexer": "ipython3",
   "version": "3.7.3"
  }
 },
 "nbformat": 4,
 "nbformat_minor": 2
}
